{
 "cells": [
  {
   "cell_type": "markdown",
   "metadata": {},
   "source": [
    "# Yapay Zekada Yanlılık (Bias)\n"
   ]
  },
  {
   "cell_type": "markdown",
   "metadata": {},
   "source": [
    "Son yılların en popüler meslek dalları yazılım dünyası ve veri bilimi oldu. Teknolojideki gelişimler bigiye ulaşmayı kolaylaştırdı ve dolayısıyla bilgi birikimi de artmış oldu. Görüldüğü üzere ters orantılı:)\n",
    "\n",
    "Artan bilgi birikimi, gelişen ve değişen teknolojik yapılar da yeni ihtiyaçların doğmasına sebep oldu ve biriken bilgilerin toplanmasına yol açtı. Zamanla görüldü ki bu sadece bir yığın değil, doğru kullanıldığında insanlar için \n",
    "tüketimin daha faydalı ve maliyetin düşmesine - israfın azalmasına olanak sağladı. BÖyle güzel yanları var iken yine insanoğlu bir yerde fire verdi. Bias!- Yanlılık!\n",
    "\n",
    "Açık kaynak kodları, binlerce kütüphane, milyarlarca(katrilyonlarca hatta sonsuz da denebilir) bilgi(veri) toplandı.\n",
    "Herşey çok güzel görünürken yapılan tüm çalışmalar, işlenen veriler , programlar ,işlemler yapıldı analiz aşamasına geçildi. Analizi yapan bireyin bakış açışı tüm çalışmaların, emeğin ziyan olmasına sebep oldu. Muhteşem bir yapıda çok çok küçük belki de hiç aklımıza gelmeyecek yerden bu şekilde bir fire insanı üzüyor. \n",
    "\n",
    "Analizlerimizi yaparken mümkün olduğunca objektif olmalı ve kurum felsefesi olarak farklı tarzlarda (tabiri caizse uçuk kaçık) analistler ile çalışmalıyız. Ekibimizde her kesime hitap eden insanlar olmalı ki farklıbakış açılarına sahip olalım ve en iyi analizleri yaparak en az hata ile sonuçlarımızı alalım.\n",
    "\n",
    "Sevgiler...\n",
    "\n",
    "Suzan Altun"
   ]
  }
 ],
 "metadata": {
  "kernelspec": {
   "display_name": "Python 3",
   "language": "python",
   "name": "python3"
  },
  "language_info": {
   "codemirror_mode": {
    "name": "ipython",
    "version": 3
   },
   "file_extension": ".py",
   "mimetype": "text/x-python",
   "name": "python",
   "nbconvert_exporter": "python",
   "pygments_lexer": "ipython3",
   "version": "3.8.3"
  }
 },
 "nbformat": 4,
 "nbformat_minor": 4
}
